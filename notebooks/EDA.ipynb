{
 "cells": [
  {
   "cell_type": "code",
   "execution_count": 5,
   "id": "5f5420c6",
   "metadata": {
    "ExecuteTime": {
     "end_time": "2023-10-30T22:36:11.889461Z",
     "start_time": "2023-10-30T22:36:11.219841Z"
    }
   },
   "outputs": [
    {
     "ename": "ModuleNotFoundError",
     "evalue": "No module named 'plotly'",
     "output_type": "error",
     "traceback": [
      "\u001b[1;31m---------------------------------------------------------------------------\u001b[0m",
      "\u001b[1;31mModuleNotFoundError\u001b[0m                       Traceback (most recent call last)",
      "\u001b[1;32mc:\\Users\\anatr\\dashboard\\notebooks\\EDA.ipynb Cell 1\u001b[0m line \u001b[0;36m2\n\u001b[0;32m      <a href='vscode-notebook-cell:/c%3A/Users/anatr/dashboard/notebooks/EDA.ipynb#X20sZmlsZQ%3D%3D?line=0'>1</a>\u001b[0m \u001b[39mimport\u001b[39;00m \u001b[39mpandas\u001b[39;00m \u001b[39mas\u001b[39;00m \u001b[39mpd\u001b[39;00m\n\u001b[1;32m----> <a href='vscode-notebook-cell:/c%3A/Users/anatr/dashboard/notebooks/EDA.ipynb#X20sZmlsZQ%3D%3D?line=1'>2</a>\u001b[0m \u001b[39mfrom\u001b[39;00m \u001b[39mplotly\u001b[39;00m\u001b[39m.\u001b[39;00m\u001b[39mexpress\u001b[39;00m \u001b[39mimport\u001b[39;00m \u001b[39m*\u001b[39m\n\u001b[0;32m      <a href='vscode-notebook-cell:/c%3A/Users/anatr/dashboard/notebooks/EDA.ipynb#X20sZmlsZQ%3D%3D?line=2'>3</a>\u001b[0m \u001b[39mfrom\u001b[39;00m \u001b[39mplotly\u001b[39;00m\u001b[39m.\u001b[39;00m\u001b[39mexpress\u001b[39;00m \u001b[39mimport\u001b[39;00m line_3d\n\u001b[0;32m      <a href='vscode-notebook-cell:/c%3A/Users/anatr/dashboard/notebooks/EDA.ipynb#X20sZmlsZQ%3D%3D?line=3'>4</a>\u001b[0m \u001b[39mimport\u001b[39;00m \u001b[39mstreamlit\u001b[39;00m \u001b[39mas\u001b[39;00m \u001b[39mst\u001b[39;00m\n",
      "\u001b[1;31mModuleNotFoundError\u001b[0m: No module named 'plotly'"
     ]
    }
   ],
   "source": [
    "import pandas as pd\n",
    "from plotly.express import *\n",
    "from plotly.express import line_3d\n",
    "import streamlit as st\n",
    "     \n",
    "car_data = pd.read_csv('C:/Users/anatr/dashboard/vehicles.csv') # lendo os dados\n",
    "hist_button = st.button('Criar histograma') # criar um botão\n",
    "scatter_button = st.button('Criar gráfico de dispersão') # criar um botão\n",
    "\n",
    "st.header('Header')\n",
    "\n",
    "if hist_button: # se o botão for clicado\n",
    "# escrever uma mensagem\n",
    "    st.write('Criando um histograma para o conjunto de dados de anúncios de vendas de carros')\n",
    "\n",
    "if scatter_button: # se o botão for clicado\n",
    "# escrever uma mensagem\n",
    "    st.write('Criando um gráfico de dispersão para o conjunto de dados de anúncios de vendas de carros')\n",
    "\n",
    "# criar um histograma\n",
    "fig = px.histogram(car_data, x=\"odometer\")\n",
    "\n",
    "# exibir um gráfico Plotly interativo\n",
    "st.plotly_chart(fig, use_container_width=True)\n",
    "\n",
    "# criar uma caixa de seleção\n",
    "build_histogram = st.checkbox('Criar um histograma')\n",
    "\n",
    "if build_histogram: # se a caixa de seleção for selecionada\n",
    "    st.write('Criando um histograma para a coluna odometer')"
   ]
  },
  {
   "cell_type": "code",
   "execution_count": 18,
   "id": "4f99192e",
   "metadata": {
    "ExecuteTime": {
     "end_time": "2023-10-30T21:34:29.868555Z",
     "start_time": "2023-10-30T21:34:29.861075Z"
    }
   },
   "outputs": [],
   "source": []
  },
  {
   "cell_type": "code",
   "execution_count": null,
   "id": "6aeaf803",
   "metadata": {},
   "outputs": [],
   "source": []
  }
 ],
 "metadata": {
  "kernelspec": {
   "display_name": "Python 3 (ipykernel)",
   "language": "python",
   "name": "python3"
  },
  "language_info": {
   "codemirror_mode": {
    "name": "ipython",
    "version": 3
   },
   "file_extension": ".py",
   "mimetype": "text/x-python",
   "name": "python",
   "nbconvert_exporter": "python",
   "pygments_lexer": "ipython3",
   "version": "3.11.5"
  },
  "toc": {
   "base_numbering": 1,
   "nav_menu": {},
   "number_sections": true,
   "sideBar": true,
   "skip_h1_title": false,
   "title_cell": "Table of Contents",
   "title_sidebar": "Contents",
   "toc_cell": false,
   "toc_position": {},
   "toc_section_display": true,
   "toc_window_display": false
  },
  "varInspector": {
   "cols": {
    "lenName": 16,
    "lenType": 16,
    "lenVar": 40
   },
   "kernels_config": {
    "python": {
     "delete_cmd_postfix": "",
     "delete_cmd_prefix": "del ",
     "library": "var_list.py",
     "varRefreshCmd": "print(var_dic_list())"
    },
    "r": {
     "delete_cmd_postfix": ") ",
     "delete_cmd_prefix": "rm(",
     "library": "var_list.r",
     "varRefreshCmd": "cat(var_dic_list()) "
    }
   },
   "types_to_exclude": [
    "module",
    "function",
    "builtin_function_or_method",
    "instance",
    "_Feature"
   ],
   "window_display": false
  }
 },
 "nbformat": 4,
 "nbformat_minor": 5
}
